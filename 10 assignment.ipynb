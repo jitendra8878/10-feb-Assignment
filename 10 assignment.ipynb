{
 "cells": [
  {
   "cell_type": "markdown",
   "id": "375056b4-2925-4edd-9f03-491322d33ba1",
   "metadata": {},
   "source": [
    "# 10 Feb Assignment "
   ]
  },
  {
   "cell_type": "markdown",
   "id": "2279e240-4b33-477d-8d52-3515247817ea",
   "metadata": {},
   "source": [
    "#  Answer -01 "
   ]
  },
  {
   "cell_type": "code",
   "execution_count": null,
   "id": "30820253-4aef-45ff-a097-e4e9e52eba78",
   "metadata": {},
   "outputs": [],
   "source": [
    "The fopen() function opens the file specified by filename and associates a stream with it. \n",
    "The mode variable is a character string specifying the type of access requested for the file"
   ]
  },
  {
   "cell_type": "code",
   "execution_count": 11,
   "id": "bdbf236a-e831-4263-8329-399e10cef611",
   "metadata": {},
   "outputs": [],
   "source": [
    "f=open(\"test.txt\",\"w\")\n",
    "    "
   ]
  },
  {
   "cell_type": "code",
   "execution_count": 12,
   "id": "c20a5a0d-6e84-44f3-ae46-59d0c9bfdfef",
   "metadata": {},
   "outputs": [
    {
     "data": {
      "text/plain": [
       "27"
      ]
     },
     "execution_count": 12,
     "metadata": {},
     "output_type": "execute_result"
    }
   ],
   "source": [
    "f.write(\"hey this assignment of file\")"
   ]
  },
  {
   "cell_type": "code",
   "execution_count": 13,
   "id": "79b8b64c-4fd3-44c4-b4a3-349801191a9f",
   "metadata": {},
   "outputs": [],
   "source": [
    "f=open(\"test.txt\",\"r\")"
   ]
  },
  {
   "cell_type": "code",
   "execution_count": 14,
   "id": "a54d2a70-07eb-458b-aaa3-043709df5d92",
   "metadata": {},
   "outputs": [
    {
     "data": {
      "text/plain": [
       "'hey this assignment of file'"
      ]
     },
     "execution_count": 14,
     "metadata": {},
     "output_type": "execute_result"
    }
   ],
   "source": [
    "f.read()"
   ]
  },
  {
   "cell_type": "code",
   "execution_count": 5,
   "id": "4d2a2cce-f8b5-4d2c-83ae-f33e3bb420c6",
   "metadata": {},
   "outputs": [],
   "source": [
    "f.close()"
   ]
  },
  {
   "cell_type": "code",
   "execution_count": 15,
   "id": "f2a11998-abb1-4d1a-9014-cf4a84da7d4d",
   "metadata": {},
   "outputs": [
    {
     "name": "stdout",
     "output_type": "stream",
     "text": [
      "hey this assignment of file\n"
     ]
    }
   ],
   "source": [
    "with open(\"test.txt\") as f:\n",
    "    print(f.read())\n"
   ]
  },
  {
   "cell_type": "markdown",
   "id": "0540aedf-404c-4732-8fc7-e1e816be18a9",
   "metadata": {},
   "source": [
    "#   Answer -02"
   ]
  },
  {
   "cell_type": "code",
   "execution_count": null,
   "id": "e4525053-9f2f-4e59-a0d6-7b341e40f45e",
   "metadata": {},
   "outputs": [],
   "source": [
    "The close() method closes an open file. You should always close your files, in some cases, due to buffering, \n",
    "changes made to a file may not show until you close the file\n",
    "The close() function closes the connection between the program and an open file identified by a handle. \n",
    "Any unwritten system buffers are flushed to the disk, and system resources used by the file are released"
   ]
  },
  {
   "cell_type": "markdown",
   "id": "259dbb05-7ded-4875-b5c3-3117b025cbbd",
   "metadata": {},
   "source": [
    "# Answer-03"
   ]
  },
  {
   "cell_type": "code",
   "execution_count": 25,
   "id": "1505f91f-bd09-4f33-8a26-d2389c0da2ea",
   "metadata": {},
   "outputs": [],
   "source": [
    "f=open(\"my_file.txt\",\"w\")\n"
   ]
  },
  {
   "cell_type": "code",
   "execution_count": 26,
   "id": "f0565bc6-5ca9-4f51-88da-f6ef83e185ec",
   "metadata": {},
   "outputs": [
    {
     "data": {
      "text/plain": [
       "33"
      ]
     },
     "execution_count": 26,
     "metadata": {},
     "output_type": "execute_result"
    }
   ],
   "source": [
    "f.write(\"I want to become a Data Scientist\")"
   ]
  },
  {
   "cell_type": "code",
   "execution_count": 27,
   "id": "d8f976be-d7ca-4f98-97dc-74d015eb3ac5",
   "metadata": {},
   "outputs": [],
   "source": [
    "f=open(\"my_file.txt\",\"r\")\n"
   ]
  },
  {
   "cell_type": "code",
   "execution_count": 28,
   "id": "8d0ac1aa-08ba-4201-91da-e17a63f12931",
   "metadata": {},
   "outputs": [
    {
     "data": {
      "text/plain": [
       "'I want to become a Data Scientist'"
      ]
     },
     "execution_count": 28,
     "metadata": {},
     "output_type": "execute_result"
    }
   ],
   "source": [
    "f.read()"
   ]
  },
  {
   "cell_type": "code",
   "execution_count": 31,
   "id": "39658143-2388-4f8c-a8b9-9284cf42fe7d",
   "metadata": {},
   "outputs": [
    {
     "data": {
      "text/plain": [
       "''"
      ]
     },
     "execution_count": 31,
     "metadata": {},
     "output_type": "execute_result"
    }
   ],
   "source": [
    "f.readline(10)"
   ]
  },
  {
   "cell_type": "code",
   "execution_count": 30,
   "id": "c04b5384-e907-49a4-b103-4964b63ef702",
   "metadata": {},
   "outputs": [
    {
     "data": {
      "text/plain": [
       "True"
      ]
     },
     "execution_count": 30,
     "metadata": {},
     "output_type": "execute_result"
    }
   ],
   "source": [
    "f.readable()"
   ]
  },
  {
   "cell_type": "code",
   "execution_count": 32,
   "id": "a4d081ed-0efa-430e-a397-011c96c7196c",
   "metadata": {},
   "outputs": [],
   "source": [
    "f.close()"
   ]
  },
  {
   "cell_type": "code",
   "execution_count": 37,
   "id": "b7b437ca-6ecb-4489-a66f-19e4101db891",
   "metadata": {},
   "outputs": [
    {
     "name": "stdout",
     "output_type": "stream",
     "text": [
      "I want to become a Data Scientist\n"
     ]
    }
   ],
   "source": [
    "with open(\"my_file.txt\") as f:\n",
    "    print(f.read())"
   ]
  },
  {
   "cell_type": "markdown",
   "id": "d78115df-c3b2-417e-8797-2944e0ec175c",
   "metadata": {},
   "source": [
    "#  Answer -04"
   ]
  },
  {
   "cell_type": "code",
   "execution_count": 38,
   "id": "dd825434-e3b6-4a57-8da4-6fd3e0dccaee",
   "metadata": {},
   "outputs": [
    {
     "name": "stdout",
     "output_type": "stream",
     "text": [
      "I want to become a Data Scientist\n"
     ]
    }
   ],
   "source": [
    "'''read()- The read() method returns the specified number of bytes from the file.\n",
    "Default is -1 which means the whole file.'''\n",
    "\n",
    "\n",
    "with open(\"my_file.txt\") as f:\n",
    "    print(f.read())\n"
   ]
  },
  {
   "cell_type": "code",
   "execution_count": 40,
   "id": "11a69a9b-a257-4337-bc60-4e1a3263cec5",
   "metadata": {},
   "outputs": [
    {
     "data": {
      "text/plain": [
       "'I want to become a Data Scientist'"
      ]
     },
     "execution_count": 40,
     "metadata": {},
     "output_type": "execute_result"
    }
   ],
   "source": [
    "'''readline()- The readline method takes one parameter i.e size, the default value for the size parameter is -1. \n",
    "It means that the method will return the whole line. \n",
    "It is an optional parameter, we can specify the number of bytes from a line to return. '''\n",
    "\n",
    "\n",
    "f=open(\"my_file.txt\",\"r\")\n",
    "f.readline()"
   ]
  },
  {
   "cell_type": "code",
   "execution_count": 41,
   "id": "a4095b1a-314c-47aa-ae5c-b8cf0e0b9308",
   "metadata": {},
   "outputs": [
    {
     "data": {
      "text/plain": [
       "['I want to become a Data Scientist']"
      ]
     },
     "execution_count": 41,
     "metadata": {},
     "output_type": "execute_result"
    }
   ],
   "source": [
    "''' readlines()-\n",
    "The readlines method takes one parameter i.e hint, the default value for the hint parameter is -1. It means that the method will return all the lines. If we specify the hint parameter, \n",
    "the lines exceeding the number of bytes from the hint parameter will not be returned by the readlines method.'''\n",
    "\n",
    "\n",
    "f=open(\"my_file.txt\",\"r\")\n",
    "f.readlines(3)"
   ]
  },
  {
   "cell_type": "markdown",
   "id": "eedeab97-289d-4d91-986f-d7251e38e3ce",
   "metadata": {},
   "source": [
    "#  Answer -05"
   ]
  },
  {
   "cell_type": "code",
   "execution_count": 45,
   "id": "9f7814a7-4aca-4120-9660-7192523768bc",
   "metadata": {},
   "outputs": [],
   "source": [
    "'''with statement in Python is used in exception handling to make the code cleaner and much more readable.\n",
    "It simplifies the management of common resources like file streams.\n",
    "Observe the following code example on how the use of with statement makes code cleaner.'''\n",
    "\n",
    "# using with statement \n",
    "\n",
    "with open('my_file.txt', 'w') as f: \n",
    "\n",
    " f.write(\"hello world !\")\n"
   ]
  },
  {
   "cell_type": "markdown",
   "id": "01e05816-d35b-4504-b3d0-4153094a143b",
   "metadata": {},
   "source": [
    "#  Answer -06\n"
   ]
  },
  {
   "cell_type": "code",
   "execution_count": null,
   "id": "bdcae4d3-881e-49db-91f2-8a31a56a19ed",
   "metadata": {},
   "outputs": [],
   "source": [
    "writelines()-\n",
    "The writelines() method writes the items of a list to the file.\n",
    "Where the texts will be inserted depends on the file mode and stream position.\n",
    "\"a\":  The texts will be inserted at the current file stream position, default at the end of the file.\n",
    "\"w\": The file will be emptied before the texts will be inserted at the current file stream position, default 0."
   ]
  },
  {
   "cell_type": "code",
   "execution_count": 49,
   "id": "fb3a2b50-4246-4f34-99e9-7a1da287cf55",
   "metadata": {},
   "outputs": [],
   "source": [
    "f=open(\"file.txt\",\"w\")"
   ]
  },
  {
   "cell_type": "code",
   "execution_count": 52,
   "id": "46d26cb8-4a8d-4f9e-b250-8d175ecc124a",
   "metadata": {},
   "outputs": [
    {
     "data": {
      "text/plain": [
       "138"
      ]
     },
     "execution_count": 52,
     "metadata": {},
     "output_type": "execute_result"
    }
   ],
   "source": [
    "f.write(\"The writelines ethod writes the items of a list to the file.Where the texts will be inserted depends on the file mode and stream position.\")"
   ]
  },
  {
   "cell_type": "code",
   "execution_count": 53,
   "id": "f54066fa-6c3d-4661-8517-e996bc3ba7c7",
   "metadata": {},
   "outputs": [],
   "source": [
    "f.writelines(\"The writelines ethod writes the items of a list to the file.Where the texts will be inserted depends on the file mode \")"
   ]
  },
  {
   "cell_type": "code",
   "execution_count": 54,
   "id": "276d2ef7-fdcb-4800-8d60-79b42274a774",
   "metadata": {},
   "outputs": [],
   "source": [
    "f.close()"
   ]
  },
  {
   "cell_type": "code",
   "execution_count": 62,
   "id": "6bff9714-6a61-4a1a-b52d-50c423c12719",
   "metadata": {},
   "outputs": [],
   "source": [
    "f=open(\"file.txt\",\"a\")"
   ]
  },
  {
   "cell_type": "code",
   "execution_count": 63,
   "id": "98eb406e-fdca-42a9-b11e-dc54f731e377",
   "metadata": {},
   "outputs": [],
   "source": [
    "f.writelines([\" heloo thhis is last line\"])"
   ]
  },
  {
   "cell_type": "code",
   "execution_count": 64,
   "id": "fb7a0d50-31c4-458b-9194-916edb64b081",
   "metadata": {},
   "outputs": [
    {
     "name": "stdout",
     "output_type": "stream",
     "text": [
      "The writelines ethod writes the items of a list to the file.Where the texts will be inserted depends on the file mode and stream position.The writelines ethod writes the items of a list to the file.Where the texts will be inserted depends on the file mode  heloo thhis is last line heloo thhis is last line\n"
     ]
    }
   ],
   "source": [
    "f=open(\"file.txt\",\"r\")\n",
    "print(f.read())"
   ]
  },
  {
   "cell_type": "code",
   "execution_count": null,
   "id": "66b117e0-b464-4648-93ce-ac143af78a72",
   "metadata": {},
   "outputs": [],
   "source": [
    "write()- \n",
    "To write to an existing file, you must add a parameter to the open() function.\n",
    "\"a\" - Append  will append to the end of the file\n",
    "\"w\" - Write will overwrite any existing content."
   ]
  },
  {
   "cell_type": "code",
   "execution_count": 65,
   "id": "6ff598d3-cc83-463c-9607-55e3be30fd57",
   "metadata": {},
   "outputs": [],
   "source": [
    "f=open(\"file.txt\",\"a\")\n",
    "f.write(\"\\n this write function use\\n\")\n",
    "f.close()"
   ]
  },
  {
   "cell_type": "code",
   "execution_count": 66,
   "id": "084851da-a3c1-4603-a844-6b5ad23eb9fe",
   "metadata": {},
   "outputs": [
    {
     "name": "stdout",
     "output_type": "stream",
     "text": [
      "The writelines ethod writes the items of a list to the file.Where the texts will be inserted depends on the file mode and stream position.The writelines ethod writes the items of a list to the file.Where the texts will be inserted depends on the file mode  heloo thhis is last line heloo thhis is last line heloo thhis is last line\n",
      " this write function use\n",
      "\n"
     ]
    }
   ],
   "source": [
    "f=open(\"file.txt\",\"r\")\n",
    "print(f.read())"
   ]
  },
  {
   "cell_type": "code",
   "execution_count": null,
   "id": "61d5d990-c4d3-4720-996e-31439edeae40",
   "metadata": {},
   "outputs": [],
   "source": []
  }
 ],
 "metadata": {
  "kernelspec": {
   "display_name": "Python 3 (ipykernel)",
   "language": "python",
   "name": "python3"
  },
  "language_info": {
   "codemirror_mode": {
    "name": "ipython",
    "version": 3
   },
   "file_extension": ".py",
   "mimetype": "text/x-python",
   "name": "python",
   "nbconvert_exporter": "python",
   "pygments_lexer": "ipython3",
   "version": "3.10.8"
  }
 },
 "nbformat": 4,
 "nbformat_minor": 5
}
